{
  "nbformat": 4,
  "nbformat_minor": 0,
  "metadata": {
    "colab": {
      "provenance": [],
      "collapsed_sections": []
    },
    "kernelspec": {
      "name": "python3",
      "display_name": "Python 3"
    },
    "language_info": {
      "name": "python"
    }
  },
  "cells": [
    {
      "cell_type": "markdown",
      "source": [
        "###Importing Required Libraries"
      ],
      "metadata": {
        "id": "cVUztZLDrXV4"
      }
    },
    {
      "cell_type": "code",
      "execution_count": 305,
      "metadata": {
        "id": "2SA9706tAq3r"
      },
      "outputs": [],
      "source": [
        "import pandas as pd\n",
        "import seaborn as sns\n",
        "import matplotlib.pyplot as plt"
      ]
    },
    {
      "cell_type": "markdown",
      "source": [
        "###House Price Prediction DataSet"
      ],
      "metadata": {
        "id": "sGTd_-W3reyL"
      }
    },
    {
      "cell_type": "code",
      "source": [
        "#reading dataframe\n",
        "df = pd.read_csv('housedata.csv')\n",
        "df"
      ],
      "metadata": {
        "colab": {
          "base_uri": "https://localhost:8080/",
          "height": 614
        },
        "id": "Cls7FsymBxRE",
        "outputId": "faf9ebe2-93ac-4e20-ac29-5315e4df8e36"
      },
      "execution_count": 306,
      "outputs": [
        {
          "output_type": "execute_result",
          "data": {
            "text/plain": [
              "      price  bedrooms  bathrooms  area  condition\n",
              "0    313000         3       1.50  1340          3\n",
              "1   2384000         5       2.50  3650          5\n",
              "2    342000         3       2.00  1930          4\n",
              "3    420000         3       2.25  2000          4\n",
              "4    550000         4       2.50  1940          4\n",
              "5    490000         2       1.00   880          3\n",
              "6    335000         2       2.00  1350          3\n",
              "7    482000         4       2.50  2710          3\n",
              "8    452500         3       2.50  2430          4\n",
              "9    640000         4       2.00  1520          3\n",
              "10   463000         3       1.75  1710          3\n",
              "11  1400000         4       2.50  2920          5\n",
              "12   588500         3       1.75  2330          3\n",
              "13   365000         3       1.00  1090          4\n",
              "14  1200000         5       2.75  2910          3\n",
              "15   242500         3       1.50  1200          4\n",
              "16   419000         3       1.50  1570          4\n",
              "17   367500         4       3.00  3110          3"
            ],
            "text/html": [
              "\n",
              "  <div id=\"df-e8a9de1e-3f05-4278-871b-1a3cef3abc32\">\n",
              "    <div class=\"colab-df-container\">\n",
              "      <div>\n",
              "<style scoped>\n",
              "    .dataframe tbody tr th:only-of-type {\n",
              "        vertical-align: middle;\n",
              "    }\n",
              "\n",
              "    .dataframe tbody tr th {\n",
              "        vertical-align: top;\n",
              "    }\n",
              "\n",
              "    .dataframe thead th {\n",
              "        text-align: right;\n",
              "    }\n",
              "</style>\n",
              "<table border=\"1\" class=\"dataframe\">\n",
              "  <thead>\n",
              "    <tr style=\"text-align: right;\">\n",
              "      <th></th>\n",
              "      <th>price</th>\n",
              "      <th>bedrooms</th>\n",
              "      <th>bathrooms</th>\n",
              "      <th>area</th>\n",
              "      <th>condition</th>\n",
              "    </tr>\n",
              "  </thead>\n",
              "  <tbody>\n",
              "    <tr>\n",
              "      <th>0</th>\n",
              "      <td>313000</td>\n",
              "      <td>3</td>\n",
              "      <td>1.50</td>\n",
              "      <td>1340</td>\n",
              "      <td>3</td>\n",
              "    </tr>\n",
              "    <tr>\n",
              "      <th>1</th>\n",
              "      <td>2384000</td>\n",
              "      <td>5</td>\n",
              "      <td>2.50</td>\n",
              "      <td>3650</td>\n",
              "      <td>5</td>\n",
              "    </tr>\n",
              "    <tr>\n",
              "      <th>2</th>\n",
              "      <td>342000</td>\n",
              "      <td>3</td>\n",
              "      <td>2.00</td>\n",
              "      <td>1930</td>\n",
              "      <td>4</td>\n",
              "    </tr>\n",
              "    <tr>\n",
              "      <th>3</th>\n",
              "      <td>420000</td>\n",
              "      <td>3</td>\n",
              "      <td>2.25</td>\n",
              "      <td>2000</td>\n",
              "      <td>4</td>\n",
              "    </tr>\n",
              "    <tr>\n",
              "      <th>4</th>\n",
              "      <td>550000</td>\n",
              "      <td>4</td>\n",
              "      <td>2.50</td>\n",
              "      <td>1940</td>\n",
              "      <td>4</td>\n",
              "    </tr>\n",
              "    <tr>\n",
              "      <th>5</th>\n",
              "      <td>490000</td>\n",
              "      <td>2</td>\n",
              "      <td>1.00</td>\n",
              "      <td>880</td>\n",
              "      <td>3</td>\n",
              "    </tr>\n",
              "    <tr>\n",
              "      <th>6</th>\n",
              "      <td>335000</td>\n",
              "      <td>2</td>\n",
              "      <td>2.00</td>\n",
              "      <td>1350</td>\n",
              "      <td>3</td>\n",
              "    </tr>\n",
              "    <tr>\n",
              "      <th>7</th>\n",
              "      <td>482000</td>\n",
              "      <td>4</td>\n",
              "      <td>2.50</td>\n",
              "      <td>2710</td>\n",
              "      <td>3</td>\n",
              "    </tr>\n",
              "    <tr>\n",
              "      <th>8</th>\n",
              "      <td>452500</td>\n",
              "      <td>3</td>\n",
              "      <td>2.50</td>\n",
              "      <td>2430</td>\n",
              "      <td>4</td>\n",
              "    </tr>\n",
              "    <tr>\n",
              "      <th>9</th>\n",
              "      <td>640000</td>\n",
              "      <td>4</td>\n",
              "      <td>2.00</td>\n",
              "      <td>1520</td>\n",
              "      <td>3</td>\n",
              "    </tr>\n",
              "    <tr>\n",
              "      <th>10</th>\n",
              "      <td>463000</td>\n",
              "      <td>3</td>\n",
              "      <td>1.75</td>\n",
              "      <td>1710</td>\n",
              "      <td>3</td>\n",
              "    </tr>\n",
              "    <tr>\n",
              "      <th>11</th>\n",
              "      <td>1400000</td>\n",
              "      <td>4</td>\n",
              "      <td>2.50</td>\n",
              "      <td>2920</td>\n",
              "      <td>5</td>\n",
              "    </tr>\n",
              "    <tr>\n",
              "      <th>12</th>\n",
              "      <td>588500</td>\n",
              "      <td>3</td>\n",
              "      <td>1.75</td>\n",
              "      <td>2330</td>\n",
              "      <td>3</td>\n",
              "    </tr>\n",
              "    <tr>\n",
              "      <th>13</th>\n",
              "      <td>365000</td>\n",
              "      <td>3</td>\n",
              "      <td>1.00</td>\n",
              "      <td>1090</td>\n",
              "      <td>4</td>\n",
              "    </tr>\n",
              "    <tr>\n",
              "      <th>14</th>\n",
              "      <td>1200000</td>\n",
              "      <td>5</td>\n",
              "      <td>2.75</td>\n",
              "      <td>2910</td>\n",
              "      <td>3</td>\n",
              "    </tr>\n",
              "    <tr>\n",
              "      <th>15</th>\n",
              "      <td>242500</td>\n",
              "      <td>3</td>\n",
              "      <td>1.50</td>\n",
              "      <td>1200</td>\n",
              "      <td>4</td>\n",
              "    </tr>\n",
              "    <tr>\n",
              "      <th>16</th>\n",
              "      <td>419000</td>\n",
              "      <td>3</td>\n",
              "      <td>1.50</td>\n",
              "      <td>1570</td>\n",
              "      <td>4</td>\n",
              "    </tr>\n",
              "    <tr>\n",
              "      <th>17</th>\n",
              "      <td>367500</td>\n",
              "      <td>4</td>\n",
              "      <td>3.00</td>\n",
              "      <td>3110</td>\n",
              "      <td>3</td>\n",
              "    </tr>\n",
              "  </tbody>\n",
              "</table>\n",
              "</div>\n",
              "      <button class=\"colab-df-convert\" onclick=\"convertToInteractive('df-e8a9de1e-3f05-4278-871b-1a3cef3abc32')\"\n",
              "              title=\"Convert this dataframe to an interactive table.\"\n",
              "              style=\"display:none;\">\n",
              "        \n",
              "  <svg xmlns=\"http://www.w3.org/2000/svg\" height=\"24px\"viewBox=\"0 0 24 24\"\n",
              "       width=\"24px\">\n",
              "    <path d=\"M0 0h24v24H0V0z\" fill=\"none\"/>\n",
              "    <path d=\"M18.56 5.44l.94 2.06.94-2.06 2.06-.94-2.06-.94-.94-2.06-.94 2.06-2.06.94zm-11 1L8.5 8.5l.94-2.06 2.06-.94-2.06-.94L8.5 2.5l-.94 2.06-2.06.94zm10 10l.94 2.06.94-2.06 2.06-.94-2.06-.94-.94-2.06-.94 2.06-2.06.94z\"/><path d=\"M17.41 7.96l-1.37-1.37c-.4-.4-.92-.59-1.43-.59-.52 0-1.04.2-1.43.59L10.3 9.45l-7.72 7.72c-.78.78-.78 2.05 0 2.83L4 21.41c.39.39.9.59 1.41.59.51 0 1.02-.2 1.41-.59l7.78-7.78 2.81-2.81c.8-.78.8-2.07 0-2.86zM5.41 20L4 18.59l7.72-7.72 1.47 1.35L5.41 20z\"/>\n",
              "  </svg>\n",
              "      </button>\n",
              "      \n",
              "  <style>\n",
              "    .colab-df-container {\n",
              "      display:flex;\n",
              "      flex-wrap:wrap;\n",
              "      gap: 12px;\n",
              "    }\n",
              "\n",
              "    .colab-df-convert {\n",
              "      background-color: #E8F0FE;\n",
              "      border: none;\n",
              "      border-radius: 50%;\n",
              "      cursor: pointer;\n",
              "      display: none;\n",
              "      fill: #1967D2;\n",
              "      height: 32px;\n",
              "      padding: 0 0 0 0;\n",
              "      width: 32px;\n",
              "    }\n",
              "\n",
              "    .colab-df-convert:hover {\n",
              "      background-color: #E2EBFA;\n",
              "      box-shadow: 0px 1px 2px rgba(60, 64, 67, 0.3), 0px 1px 3px 1px rgba(60, 64, 67, 0.15);\n",
              "      fill: #174EA6;\n",
              "    }\n",
              "\n",
              "    [theme=dark] .colab-df-convert {\n",
              "      background-color: #3B4455;\n",
              "      fill: #D2E3FC;\n",
              "    }\n",
              "\n",
              "    [theme=dark] .colab-df-convert:hover {\n",
              "      background-color: #434B5C;\n",
              "      box-shadow: 0px 1px 3px 1px rgba(0, 0, 0, 0.15);\n",
              "      filter: drop-shadow(0px 1px 2px rgba(0, 0, 0, 0.3));\n",
              "      fill: #FFFFFF;\n",
              "    }\n",
              "  </style>\n",
              "\n",
              "      <script>\n",
              "        const buttonEl =\n",
              "          document.querySelector('#df-e8a9de1e-3f05-4278-871b-1a3cef3abc32 button.colab-df-convert');\n",
              "        buttonEl.style.display =\n",
              "          google.colab.kernel.accessAllowed ? 'block' : 'none';\n",
              "\n",
              "        async function convertToInteractive(key) {\n",
              "          const element = document.querySelector('#df-e8a9de1e-3f05-4278-871b-1a3cef3abc32');\n",
              "          const dataTable =\n",
              "            await google.colab.kernel.invokeFunction('convertToInteractive',\n",
              "                                                     [key], {});\n",
              "          if (!dataTable) return;\n",
              "\n",
              "          const docLinkHtml = 'Like what you see? Visit the ' +\n",
              "            '<a target=\"_blank\" href=https://colab.research.google.com/notebooks/data_table.ipynb>data table notebook</a>'\n",
              "            + ' to learn more about interactive tables.';\n",
              "          element.innerHTML = '';\n",
              "          dataTable['output_type'] = 'display_data';\n",
              "          await google.colab.output.renderOutput(dataTable, element);\n",
              "          const docLink = document.createElement('div');\n",
              "          docLink.innerHTML = docLinkHtml;\n",
              "          element.appendChild(docLink);\n",
              "        }\n",
              "      </script>\n",
              "    </div>\n",
              "  </div>\n",
              "  "
            ]
          },
          "metadata": {},
          "execution_count": 306
        }
      ]
    },
    {
      "cell_type": "code",
      "source": [
        "df.shape  # m = 18 training examples"
      ],
      "metadata": {
        "colab": {
          "base_uri": "https://localhost:8080/"
        },
        "id": "_uPoGDFhCI7w",
        "outputId": "aea4e182-0150-4370-ec20-d8a05833d040"
      },
      "execution_count": 307,
      "outputs": [
        {
          "output_type": "execute_result",
          "data": {
            "text/plain": [
              "(18, 5)"
            ]
          },
          "metadata": {},
          "execution_count": 307
        }
      ]
    },
    {
      "cell_type": "markdown",
      "source": [
        "##Comparing Price with other features"
      ],
      "metadata": {
        "id": "2A8VFBdPrtnb"
      }
    },
    {
      "cell_type": "code",
      "source": [
        "#plot bedrooms vs price\n",
        "sns.barplot(x ='bedrooms', y ='price', data = df,  \n",
        "            palette ='plasma')"
      ],
      "metadata": {
        "colab": {
          "base_uri": "https://localhost:8080/",
          "height": 307
        },
        "id": "NjnddjKeSGQV",
        "outputId": "25336fca-dc68-4de5-8f76-57d90894487b"
      },
      "execution_count": 308,
      "outputs": [
        {
          "output_type": "execute_result",
          "data": {
            "text/plain": [
              "<matplotlib.axes._subplots.AxesSubplot at 0x7f600ead84d0>"
            ]
          },
          "metadata": {},
          "execution_count": 308
        },
        {
          "output_type": "display_data",
          "data": {
            "text/plain": [
              "<Figure size 432x288 with 1 Axes>"
            ],
            "image/png": "[encoded data removed]"
          },
          "metadata": {
            "needs_background": "light"
          }
        }
      ]
    },
    {
      "cell_type": "code",
      "source": [
        "#plot bathrooms vs price\n",
        "sns.barplot(x ='bathrooms', y ='price', data = df,  \n",
        "            palette ='plasma')"
      ],
      "metadata": {
        "colab": {
          "base_uri": "https://localhost:8080/",
          "height": 307
        },
        "id": "lEZTtBnCTy82",
        "outputId": "d88fb044-06d0-479e-9131-dff8209796f8"
      },
      "execution_count": 309,
      "outputs": [
        {
          "output_type": "execute_result",
          "data": {
            "text/plain": [
              "<matplotlib.axes._subplots.AxesSubplot at 0x7f600ebc1c10>"
            ]
          },
          "metadata": {},
          "execution_count": 309
        },
        {
          "output_type": "display_data",
          "data": {
            "text/plain": [
              "<Figure size 432x288 with 1 Axes>"
            ],
            "image/png": "[encoded data removed]"
          },
          "metadata": {
            "needs_background": "light"
          }
        }
      ]
    },
    {
      "cell_type": "code",
      "source": [
        "#plot area vs price\n",
        "sns.barplot(x ='area', y ='price', data = df,  \n",
        "            palette ='plasma')"
      ],
      "metadata": {
        "colab": {
          "base_uri": "https://localhost:8080/",
          "height": 307
        },
        "id": "Uf2q17KkK431",
        "outputId": "bd62a64b-11d4-4d5e-cc7a-cf2d22032a2d"
      },
      "execution_count": 310,
      "outputs": [
        {
          "output_type": "execute_result",
          "data": {
            "text/plain": [
              "<matplotlib.axes._subplots.AxesSubplot at 0x7f600f224810>"
            ]
          },
          "metadata": {},
          "execution_count": 310
        },
        {
          "output_type": "display_data",
          "data": {
            "text/plain": [
              "<Figure size 432x288 with 1 Axes>"
            ],
            "image/png": "[encoded data removed]"
          },
          "metadata": {
            "needs_background": "light"
          }
        }
      ]
    },
    {
      "cell_type": "code",
      "source": [
        "#plot condition vs price\n",
        "sns.barplot(x ='condition', y ='price', data = df,  \n",
        "            palette ='plasma')"
      ],
      "metadata": {
        "colab": {
          "base_uri": "https://localhost:8080/",
          "height": 307
        },
        "id": "k57X6PsOUHLg",
        "outputId": "9c156215-825f-4b87-bd40-59851a4a4491"
      },
      "execution_count": 311,
      "outputs": [
        {
          "output_type": "execute_result",
          "data": {
            "text/plain": [
              "<matplotlib.axes._subplots.AxesSubplot at 0x7f600e989bd0>"
            ]
          },
          "metadata": {},
          "execution_count": 311
        },
        {
          "output_type": "display_data",
          "data": {
            "text/plain": [
              "<Figure size 432x288 with 1 Axes>"
            ],
            "image/png": "[encoded data removed]"
          },
          "metadata": {
            "needs_background": "light"
          }
        }
      ]
    },
    {
      "cell_type": "code",
      "source": [
        "#extracting values from dataset\n",
        "x1=df['bedrooms'].values\n",
        "x2=df['bathrooms'].values\n",
        "x3=df['area'].values\n",
        "x4=df['condition'].values\n",
        "Y = df['price'].values"
      ],
      "metadata": {
        "id": "lIrn5K-cZ0PV"
      },
      "execution_count": 312,
      "outputs": []
    },
    {
      "cell_type": "code",
      "source": [
        "#normalizing data\n",
        "x1=x1/max(x1)\n",
        "x2=x2/max(x2)\n",
        "x3=x3/max(x3)\n",
        "x4=x4/max(x4)\n",
        "Y= Y/max(Y)"
      ],
      "metadata": {
        "id": "3axTi6tLaAc0"
      },
      "execution_count": 313,
      "outputs": []
    },
    {
      "cell_type": "code",
      "source": [
        "#defining prediction function\n",
        "def predict(b,w1,w2,w3,w4, x1, x2, x3, x4):\n",
        "    \n",
        "    y= b+w1*x1+w2*x2+w3*x3+w4*x4\n",
        "    return y"
      ],
      "metadata": {
        "id": "0TCB8KeAa6gU"
      },
      "execution_count": 314,
      "outputs": []
    },
    {
      "cell_type": "code",
      "source": [
        "#defining cost function\n",
        "def cost_function(x1,x2,x3,x4,Y,b,w1,w2,w3,w4):\n",
        "    \n",
        "    m=Y.size\n",
        "    cost=0\n",
        "    \n",
        "    for i in range(m):\n",
        "        y= predict(b,w1,w2,w3,w4,x1[i],x2[i],x3[i],x4[i])\n",
        "        cost = cost + (Y[i]-y)**2\n",
        "    cost = cost/(m*2)\n",
        "    \n",
        "    return cost"
      ],
      "metadata": {
        "id": "vQhSSiSTedar"
      },
      "execution_count": 315,
      "outputs": []
    },
    {
      "cell_type": "code",
      "source": [
        "#calculating cost with randomly initialized weights\n",
        "cost = cost_function(x1,x2,x3,x4,Y,b=0,w1=1,w2=1,w3=1,w4=1)\n",
        "cost"
      ],
      "metadata": {
        "colab": {
          "base_uri": "https://localhost:8080/"
        },
        "id": "_XuGj08jiDE5",
        "outputId": "6c7792dd-c38f-4474-cfb2-7eaf901df83a"
      },
      "execution_count": 316,
      "outputs": [
        {
          "output_type": "execute_result",
          "data": {
            "text/plain": [
              "2.896799442435112"
            ]
          },
          "metadata": {},
          "execution_count": 316
        }
      ]
    },
    {
      "cell_type": "code",
      "source": [
        "def grad_descent(x1,x2,x3,x4,Y,lr,iter):\n",
        "    m=Y.size\n",
        "    error= []\n",
        "    \n",
        "    b=0\n",
        "    w1=1\n",
        "    w2=2\n",
        "    w3=1\n",
        "    w4=0\n",
        "\n",
        "    for iteration in range(iter):    \n",
        "        cost_b=0\n",
        "        cost_w1=0\n",
        "        cost_w2=0\n",
        "        cost_w3=0\n",
        "        cost_w4=0\n",
        "        for i in range(m):\n",
        "            y=predict(b,w1,w2,w3,w4,x1[i],x2[i],x3[i],x4[i])\n",
        "            cost_b= cost_b+(y-Y[i])\n",
        "            cost_w1=cost_w1+(y-Y[i])*x1[i]\n",
        "            cost_w2=cost_w2+(y-Y[i])*x2[i]\n",
        "            cost_w3=cost_w3+(y-Y[i])*x3[i]\n",
        "            cost_w4=cost_w4+(y-Y[i])*x4[i]\n",
        "\n",
        "        b = b - lr*(cost_b/m)\n",
        "        w1= w1 - lr*(cost_w1/m)\n",
        "        w2= w2 - lr*(cost_w2/m)\n",
        "        w3= w3 - lr*(cost_w3/m)\n",
        "        w4= w4 - lr*(cost_w4/m)\n",
        "\n",
        "        error.append(cost_function(x1,x2,x3,x4,Y,b,w1,w2,w3,w4))\n",
        "        if iteration%500 == 0:\n",
        "            print(\"Iteration: \", iteration, \"Loss: \", error[iteration])\n",
        "    return error, b, w1, w2, w3, w4"
      ],
      "metadata": {
        "id": "idugPVAyiRCW"
      },
      "execution_count": 317,
      "outputs": []
    },
    {
      "cell_type": "markdown",
      "source": [
        "###With different Values of Learning Rates "
      ],
      "metadata": {
        "id": "jS6ax-V-rJpM"
      }
    },
    {
      "cell_type": "code",
      "source": [
        "#learning_rate= 0.1\n",
        "iter=10000\n",
        "lr =0.1\n",
        "error, b, w1, w2, w3, w4 = grad_descent(x1,x2,x3,x4,Y,lr,iter)"
      ],
      "metadata": {
        "colab": {
          "base_uri": "https://localhost:8080/"
        },
        "id": "ULeHl2i4mbF4",
        "outputId": "20c72203-5895-4fed-8c5d-d3bee3bdd2f4"
      },
      "execution_count": 318,
      "outputs": [
        {
          "output_type": "stream",
          "name": "stdout",
          "text": [
            "Iteration:  0 Loss:  1.5191976110507894\n",
            "Iteration:  500 Loss:  0.012918492247909976\n",
            "Iteration:  1000 Loss:  0.008673083874949132\n",
            "Iteration:  1500 Loss:  0.007285750084606343\n",
            "Iteration:  2000 Loss:  0.0067082737751049965\n",
            "Iteration:  2500 Loss:  0.006425181969318867\n",
            "Iteration:  3000 Loss:  0.006268786035010786\n",
            "Iteration:  3500 Loss:  0.006175796398967017\n",
            "Iteration:  4000 Loss:  0.006118184787584214\n",
            "Iteration:  4500 Loss:  0.0060816816809718755\n",
            "Iteration:  5000 Loss:  0.0060582649913886\n",
            "Iteration:  5500 Loss:  0.006043137561008552\n",
            "Iteration:  6000 Loss:  0.006033325146462581\n",
            "Iteration:  6500 Loss:  0.006026944855033283\n",
            "Iteration:  7000 Loss:  0.00602279012526508\n",
            "Iteration:  7500 Loss:  0.006020082208832997\n",
            "Iteration:  8000 Loss:  0.0060183162997958384\n",
            "Iteration:  8500 Loss:  0.006017164305142762\n",
            "Iteration:  9000 Loss:  0.006016412638579342\n",
            "Iteration:  9500 Loss:  0.0060159221174981535\n"
          ]
        }
      ]
    },
    {
      "cell_type": "code",
      "source": [
        "plt.plot(error)"
      ],
      "metadata": {
        "colab": {
          "base_uri": "https://localhost:8080/",
          "height": 282
        },
        "id": "hZyuhEWmm78G",
        "outputId": "c109a927-daba-411f-e618-43fd4f710db7"
      },
      "execution_count": 319,
      "outputs": [
        {
          "output_type": "execute_result",
          "data": {
            "text/plain": [
              "[<matplotlib.lines.Line2D at 0x7f600eb6dc90>]"
            ]
          },
          "metadata": {},
          "execution_count": 319
        },
        {
          "output_type": "display_data",
          "data": {
            "text/plain": [
              "<Figure size 432x288 with 1 Axes>"
            ],
            "image/png": "[encoded data removed]"
          },
          "metadata": {
            "needs_background": "light"
          }
        }
      ]
    },
    {
      "cell_type": "code",
      "source": [
        "#learning_rate= 0.001\n",
        "iter=10000\n",
        "lr =0.001\n",
        "error, b, w1, w2, w3, w4 = grad_descent(x1,x2,x3,x4,Y,lr,iter)"
      ],
      "metadata": {
        "colab": {
          "base_uri": "https://localhost:8080/"
        },
        "id": "dNrYidk7qHtz",
        "outputId": "929f41a9-9828-446d-9668-d36bf3c2014f"
      },
      "execution_count": 320,
      "outputs": [
        {
          "output_type": "stream",
          "name": "stdout",
          "text": [
            "Iteration:  0 Loss:  2.8523856889375994\n",
            "Iteration:  500 Loss:  0.23306212100424556\n",
            "Iteration:  1000 Loss:  0.07206958507630719\n",
            "Iteration:  1500 Loss:  0.06045954942481927\n",
            "Iteration:  2000 Loss:  0.058001419721800826\n",
            "Iteration:  2500 Loss:  0.05617505099178361\n",
            "Iteration:  3000 Loss:  0.05445949147279058\n",
            "Iteration:  3500 Loss:  0.052819760120825995\n",
            "Iteration:  4000 Loss:  0.05125054686886663\n",
            "Iteration:  4500 Loss:  0.0497484932780144\n",
            "Iteration:  5000 Loss:  0.048310502022600184\n",
            "Iteration:  5500 Loss:  0.046933627488953945\n",
            "Iteration:  6000 Loss:  0.045615062716573535\n",
            "Iteration:  6500 Loss:  0.04435213249370877\n",
            "Iteration:  7000 Loss:  0.0431422871157262\n",
            "Iteration:  7500 Loss:  0.041983096459060905\n",
            "Iteration:  8000 Loss:  0.0408722443366452\n",
            "Iteration:  8500 Loss:  0.03980752312032966\n",
            "Iteration:  9000 Loss:  0.03878682861759642\n",
            "Iteration:  9500 Loss:  0.03780815519052732\n"
          ]
        }
      ]
    },
    {
      "cell_type": "code",
      "source": [
        "plt.plot(error)"
      ],
      "metadata": {
        "colab": {
          "base_uri": "https://localhost:8080/",
          "height": 282
        },
        "id": "W2R6Lw8RqYKc",
        "outputId": "5d4b953e-953d-444b-d9a0-d6466ccaa06c"
      },
      "execution_count": 321,
      "outputs": [
        {
          "output_type": "execute_result",
          "data": {
            "text/plain": [
              "[<matplotlib.lines.Line2D at 0x7f600e8aa0d0>]"
            ]
          },
          "metadata": {},
          "execution_count": 321
        },
        {
          "output_type": "display_data",
          "data": {
            "text/plain": [
              "<Figure size 432x288 with 1 Axes>"
            ],
            "image/png": "[encoded data removed]"
          },
          "metadata": {
            "needs_background": "light"
          }
        }
      ]
    },
    {
      "cell_type": "code",
      "source": [
        "#learning_rate= 0.0001\n",
        "iter=10000\n",
        "lr =0.0001\n",
        "error, b, w1, w2, w3, w4 = grad_descent(x1,x2,x3,x4,Y,lr,iter)"
      ],
      "metadata": {
        "colab": {
          "base_uri": "https://localhost:8080/"
        },
        "id": "xt9oLGEuneZW",
        "outputId": "b6dde3b1-338e-46cc-da68-a9337ad89f9f"
      },
      "execution_count": 322,
      "outputs": [
        {
          "output_type": "stream",
          "name": "stdout",
          "text": [
            "Iteration:  0 Loss:  2.866477034538553\n",
            "Iteration:  500 Loss:  2.1828068200294113\n",
            "Iteration:  1000 Loss:  1.6659318417755093\n",
            "Iteration:  1500 Loss:  1.2751464872081133\n",
            "Iteration:  2000 Loss:  0.9796792177250973\n",
            "Iteration:  2500 Loss:  0.7562681895916827\n",
            "Iteration:  3000 Loss:  0.5873285368369763\n",
            "Iteration:  3500 Loss:  0.4595669229211324\n",
            "Iteration:  4000 Loss:  0.36293420665444676\n",
            "Iteration:  4500 Loss:  0.2898337066624132\n",
            "Iteration:  5000 Loss:  0.2345226863858085\n",
            "Iteration:  5500 Loss:  0.19265990475979433\n",
            "Iteration:  6000 Loss:  0.16096358570839575\n",
            "Iteration:  6500 Loss:  0.13695285909421598\n",
            "Iteration:  7000 Loss:  0.1187523021806564\n",
            "Iteration:  7500 Loss:  0.10494418212759199\n",
            "Iteration:  8000 Loss:  0.09445675823523064\n",
            "Iteration:  8500 Loss:  0.08647984366950709\n",
            "Iteration:  9000 Loss:  0.08040097407937188\n",
            "Iteration:  9500 Loss:  0.07575715405965873\n"
          ]
        }
      ]
    },
    {
      "cell_type": "code",
      "source": [
        "plt.plot(error)"
      ],
      "metadata": {
        "colab": {
          "base_uri": "https://localhost:8080/",
          "height": 286
        },
        "id": "yFrvW4BGoBFn",
        "outputId": "b46eb4df-8fba-4398-97eb-b156ee7e4442"
      },
      "execution_count": 323,
      "outputs": [
        {
          "output_type": "execute_result",
          "data": {
            "text/plain": [
              "[<matplotlib.lines.Line2D at 0x7f600e7c9a10>]"
            ]
          },
          "metadata": {},
          "execution_count": 323
        },
        {
          "output_type": "display_data",
          "data": {
            "text/plain": [
              "<Figure size 432x288 with 1 Axes>"
            ],
            "image/png": "[encoded data removed]"
          },
          "metadata": {
            "needs_background": "light"
          }
        }
      ]
    }
  ]
}